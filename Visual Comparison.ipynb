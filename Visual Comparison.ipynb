{
 "cells": [
  {
   "cell_type": "markdown",
   "metadata": {},
   "source": [
    "# Corporacion Favorita Grocery Sales Forecasting\n",
    "# Prediction Behavior Visual Comparison\n",
    "### Display random time series along with the predictions for different models to determine their relevance and find out some hints for ensembling"
   ]
  },
  {
   "cell_type": "code",
   "execution_count": 1,
   "metadata": {
    "collapsed": true
   },
   "outputs": [],
   "source": [
    "# imports\n",
    "import numpy as np\n",
    "import pandas as pd\n",
    "\n",
    "import matplotlib.pyplot as plt\n",
    "%matplotlib inline"
   ]
  },
  {
   "cell_type": "code",
   "execution_count": 2,
   "metadata": {},
   "outputs": [
    {
     "name": "stdout",
     "output_type": "stream",
     "text": [
      "a\n",
      "b\n"
     ]
    }
   ],
   "source": [
    "# load train, test and items\n",
    "types = {'id': 'int64','item_nbr': 'int32','store_nbr': 'int8','unit_sales': 'float32','onpromotion': bool,}\n",
    "df_train= pd.read_csv(\"clean_train.csv\", parse_dates = ['date'], dtype = types, infer_datetime_format = True)\n",
    "types = {'id': 'int64','item_nbr': 'int32','store_nbr': 'int8','onpromotion': bool,}\n",
    "df_test = pd.read_csv(\"data/test.csv\", parse_dates = ['date'], dtype = types, infer_datetime_format = True)\n",
    "df_items= pd.read_csv(\"data/items.csv\")"
   ]
  },
  {
   "cell_type": "code",
   "execution_count": 4,
   "metadata": {},
   "outputs": [
    {
     "ename": "SyntaxError",
     "evalue": "unexpected character after line continuation character (<ipython-input-4-0ed554d83bc8>, line 6)",
     "output_type": "error",
     "traceback": [
      "\u001b[0;36m  File \u001b[0;32m\"<ipython-input-4-0ed554d83bc8>\"\u001b[0;36m, line \u001b[0;32m6\u001b[0m\n\u001b[0;31m    'LOGMA': ('LOGMA_526.csv', 'navy'), \\\u001b[0m\n\u001b[0m                                          ^\u001b[0m\n\u001b[0;31mSyntaxError\u001b[0m\u001b[0;31m:\u001b[0m unexpected character after line continuation character\n"
     ]
    }
   ],
   "source": [
    "\"\"\"\n",
    "    LIST THE PREDICTION FILES YOU WANT TO DISPLAY HERE\n",
    "\"\"\"\n",
    "\n",
    "config = {'LGBM': ('lgb_OIL.csv', 'red'), \\\n",
    "          'ETR': ('EXTRA_OIL.csv', 'brown'), \\\n",
    "          'FOREST': ('FOREST_OIL.csv', 'green'), \\\n",
    "          'LOGMA': ('LOGMA_526.csv', 'navy'), \\ \n",
    "          'LSTM': ('lstm_SQR.csv', 'magenta'),\\\n",
    "          'RIDGE': ('RIDGE_OIL.csv', 'cyan'),\n",
    "          'CAT': ('CAT_OIL.csv', 'orange'),\n",
    "           # best ensemble: weighted average of LightGBM, Extra Trees, Random Forest, \n",
    "           #                                    LSTM and moving averages.\n",
    "          'BEST>': ('LGEXRFLSMA_OILL.csv', 'black')\n",
    "         }\n",
    "\n",
    "subs = {}\n",
    "colors = {}\n",
    "for key, conf in config.items():\n",
    "    subs[key] = df_test.merge(pd.read_csv(conf[0]), on='id')\n",
    "    colors[key] = conf[1]"
   ]
  },
  {
   "cell_type": "code",
   "execution_count": null,
   "metadata": {
    "collapsed": true
   },
   "outputs": [],
   "source": [
    "picked = [] # keep track of previous comparisons when random"
   ]
  },
  {
   "cell_type": "markdown",
   "metadata": {},
   "source": [
    "# Compare predictions of different models on a random timeline"
   ]
  },
  {
   "cell_type": "code",
   "execution_count": null,
   "metadata": {},
   "outputs": [],
   "source": [
    "_LAST_X_DAYS = 80 # define time frame to display for train data, if None : display all available data\n",
    "_RANDOM = True # change to True to display random comparison\n",
    "if _RANDOM:\n",
    "    df_s = df_test.sample(1)\n",
    "    _store, _item = df_s['store_nbr'].values[0], df_s['item_nbr'].values[0]\n",
    "    picked.append((_store, _item))\n",
    "    print(\"STORE :: %d\" % _store)\n",
    "    print(\"ITEM :: %d\" % _item)\n",
    "else:\n",
    "    _store, _item = 34, 103665\n",
    "    \n",
    "df_train_c = df_train[(df_train.store_nbr == _store) & (df_train.item_nbr == _item)].filter(items=['date', 'unit_sales']).set_index('date')\n",
    "\n",
    "u_dates = [d for d in df_train.date.unique() if pd.Timestamp(d) >= df_train_c.index.min()]\n",
    "df_train_c = df_train_c.reindex(u_dates)\n",
    "df_train_c.unit_sales = df_train_c.unit_sales.fillna(0.0)\n",
    "\n",
    "f, ax = plt.subplots(2, 1, figsize=(20, 20))\n",
    "\n",
    "if df_train_c.shape[0] > 0:\n",
    "    if _LAST_X_DAYS == None:\n",
    "        df_train_c.rename(columns={\"unit_sales\": \"unit_sales_train\"}).plot(ax=ax[0], color='black')\n",
    "    else:\n",
    "        df_train_c[-_LAST_X_DAYS:].rename(columns={\"unit_sales\": \"unit_sales_train\"}).plot(ax=ax[0], color='black')\n",
    "\n",
    "for k in subs.keys():\n",
    "    df_plot = subs[k][(subs[k].store_nbr == _store) & (subs[k].item_nbr == _item)].filter(items=['date', 'unit_sales']).set_index('date').rename(columns={\"unit_sales\": k})\n",
    "    df_plot.plot(ax=ax[0], color=colors[k])\n",
    "    df_plot.plot(ax=ax[1], color=colors[k])\n",
    "\n",
    "plt.show()\n",
    "_store, _item"
   ]
  },
  {
   "cell_type": "code",
   "execution_count": null,
   "metadata": {
    "collapsed": true
   },
   "outputs": [],
   "source": []
  }
 ],
 "metadata": {
  "kernelspec": {
   "display_name": "Python 2",
   "language": "python",
   "name": "python2"
  },
  "language_info": {
   "codemirror_mode": {
    "name": "ipython",
    "version": 2
   },
   "file_extension": ".py",
   "mimetype": "text/x-python",
   "name": "python",
   "nbconvert_exporter": "python",
   "pygments_lexer": "ipython2",
   "version": "2.7.14"
  }
 },
 "nbformat": 4,
 "nbformat_minor": 2
}
